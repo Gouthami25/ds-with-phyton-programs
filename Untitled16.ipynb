{
  "nbformat": 4,
  "nbformat_minor": 0,
  "metadata": {
    "colab": {
      "name": "Untitled16.ipynb",
      "provenance": [],
      "authorship_tag": "ABX9TyODiM9TnACzI+u1mcmTjSVC",
      "include_colab_link": true
    },
    "kernelspec": {
      "name": "python3",
      "display_name": "Python 3"
    }
  },
  "cells": [
    {
      "cell_type": "markdown",
      "metadata": {
        "id": "view-in-github",
        "colab_type": "text"
      },
      "source": [
        "<a href=\"https://colab.research.google.com/github/Gouthami25/ds-with-phyton-programs/blob/main/Untitled16.ipynb\" target=\"_parent\"><img src=\"https://colab.research.google.com/assets/colab-badge.svg\" alt=\"Open In Colab\"/></a>"
      ]
    },
    {
      "cell_type": "markdown",
      "metadata": {
        "id": "q0At69HL6KIx"
      },
      "source": [
        " 1.a. Find minimum among three numbers."
      ]
    },
    {
      "cell_type": "code",
      "metadata": {
        "colab": {
          "base_uri": "https://localhost:8080/"
        },
        "id": "Be5dnIvo6LEl",
        "outputId": "24c20299-b746-44cb-d9c6-ea6bf9c82a44"
      },
      "source": [
        " \n",
        "a=int(input(\"Enter the first number \"))\n",
        "b=int(input(\"Enter the second number \"))\n",
        "c=int(input(\"Enter the third number \"))\n",
        "if a<b:\n",
        "    if b<c:\n",
        "        print(a,\" is the minimum number\")\n",
        "    else:\n",
        "        print(c,\" is the minimum number\")\n",
        "else:\n",
        "    if b<c:\n",
        "        print(b,\" is the minimum number\")\n",
        "    else:\n",
        "        print(c,\" is the minimum number\")"
      ],
      "execution_count": 1,
      "outputs": [
        {
          "output_type": "stream",
          "text": [
            "Enter the first number 1\n",
            "Enter the second number 2\n",
            "Enter the third number 3\n",
            "1  is the minimum number\n"
          ],
          "name": "stdout"
        }
      ]
    },
    {
      "cell_type": "markdown",
      "metadata": {
        "id": "-UPkbMH96URv"
      },
      "source": [
        " 1.b.Find the GCD and LCM of two/three numbers"
      ]
    },
    {
      "cell_type": "code",
      "metadata": {
        "colab": {
          "base_uri": "https://localhost:8080/"
        },
        "id": "vq3Mi9LS6Xug",
        "outputId": "5486cd28-ed5f-4c57-f2ec-15df21a56269"
      },
      "source": [
        " \n",
        "a=int(input(\"Enter the first number \"))\n",
        "b=int(input(\"Enter the second number \"))\n",
        "i=1\n",
        "while (i <= a and i <= b):\n",
        "  if(a%i == 0 and b%i == 0):\n",
        "    gcd = i\n",
        "  i = i + 1\n",
        "lcm = (a*b)/gcd\n",
        "print(\"GCD of the given numbers is \", gcd)\n",
        "print(\"LCM of the given numbers is \",lcm)"
      ],
      "execution_count": 2,
      "outputs": [
        {
          "output_type": "stream",
          "text": [
            "Enter the first number 1\n",
            "Enter the second number 2\n",
            "GCD of the given numbers is  1\n",
            "LCM of the given numbers is  2.0\n"
          ],
          "name": "stdout"
        }
      ]
    },
    {
      "cell_type": "markdown",
      "metadata": {
        "id": "pIpaWkGk6gu4"
      },
      "source": [
        " 1.c.check whether the given number is perfect"
      ]
    },
    {
      "cell_type": "code",
      "metadata": {
        "colab": {
          "base_uri": "https://localhost:8080/"
        },
        "id": "YOZlBPlx6je3",
        "outputId": "0c25d273-5ab1-4662-c536-8cb00a0f5b56"
      },
      "source": [
        " \n",
        "n=int(input(\"enter any number:\"))\n",
        "sum=0\n",
        "for i in range(1,n):\n",
        "    if(n%i==0):\n",
        "       sum=sum+i\n",
        "if(sum==n):\n",
        "    print(\"the number\",sum,\" is a perfect number\")\n",
        "else:\n",
        "    print(\"the number is not a perfect number\")"
      ],
      "execution_count": 3,
      "outputs": [
        {
          "output_type": "stream",
          "text": [
            "enter any number:1\n",
            "the number is not a perfect number\n"
          ],
          "name": "stdout"
        }
      ]
    },
    {
      "cell_type": "markdown",
      "metadata": {
        "id": "kHYi1vwT6rJz"
      },
      "source": [
        " 1.d. print twin primes upto specified limit"
      ]
    },
    {
      "cell_type": "code",
      "metadata": {
        "colab": {
          "base_uri": "https://localhost:8080/"
        },
        "id": "FhpcQWTk6tpE",
        "outputId": "aa89dcd3-bca1-44f7-adb1-a4751cb7d920"
      },
      "source": [
        " \n",
        "n1 = int(input(\"Enter the first number \"))\n",
        "n2 = int(input(\"Enter the last number \"))\n",
        " \n",
        "for n in range(n1, n2+1):  \n",
        "    if n > 1:\n",
        "        for i in range(2,n):\n",
        "            if (n % i == 0):\n",
        "                break  \n",
        "        else:  \n",
        "            print(n)"
      ],
      "execution_count": 4,
      "outputs": [
        {
          "output_type": "stream",
          "text": [
            "Enter the first number 1\n",
            "Enter the last number 2\n",
            "2\n"
          ],
          "name": "stdout"
        }
      ]
    },
    {
      "cell_type": "markdown",
      "metadata": {
        "id": "UcwJAVh963TH"
      },
      "source": [
        " 1.e.find the sum of digits of a number.check whether given number is armstrong number or not"
      ]
    },
    {
      "cell_type": "code",
      "metadata": {
        "colab": {
          "base_uri": "https://localhost:8080/"
        },
        "id": "tWCBd-ZO65LJ",
        "outputId": "26385447-2e5f-4369-909b-3b33ac4d1731"
      },
      "source": [
        " \n",
        "import math \n",
        "n1 = int(input(\"Enter your first number \"))\n",
        "n2 = int(input(\"Enter your second number \"))\n",
        "print(\"The armstrong numbers form the interval are \")\n",
        "if n1 < n2:\n",
        "    for i in range(n1,n2+1):\n",
        "        sum = 0\n",
        "        temp = i\n",
        "        \n",
        "        while temp != 0:\n",
        "            last = temp%10\n",
        "            sum = sum + math.pow(last,3)\n",
        "            temp = temp//10\n",
        "        if sum==i:\n",
        "            print(i)"
      ],
      "execution_count": 5,
      "outputs": [
        {
          "output_type": "stream",
          "text": [
            "Enter your first number 1\n",
            "Enter your second number 2\n",
            "The armstrong numbers form the interval are \n",
            "1\n"
          ],
          "name": "stdout"
        }
      ]
    },
    {
      "cell_type": "markdown",
      "metadata": {
        "id": "wy7mmbn67DN9"
      },
      "source": [
        " 1.f.swap of two numbers"
      ]
    },
    {
      "cell_type": "code",
      "metadata": {
        "colab": {
          "base_uri": "https://localhost:8080/"
        },
        "id": "AVz3e_ks7IKD",
        "outputId": "ca1a6910-7eda-4dfc-da12-12714c2abe59"
      },
      "source": [
        " \n",
        "a=int(input(\"enter number:\"))\n",
        "b=int(input(\"enter number:\"))\n",
        "print(\"before swap the values of a and b are:\",a,b)\n",
        "a,b=b,a\n",
        "print(\"after swap the values of a and b are:\",a,b)"
      ],
      "execution_count": 6,
      "outputs": [
        {
          "output_type": "stream",
          "text": [
            "enter number:1\n",
            "enter number:2\n",
            "before swap the values of a and b are: 1 2\n",
            "after swap the values of a and b are: 2 1\n"
          ],
          "name": "stdout"
        }
      ]
    },
    {
      "cell_type": "markdown",
      "metadata": {
        "id": "rpbV7c2O7Q3B"
      },
      "source": [
        " 1.g.Performs all the five arithmetic operations"
      ]
    },
    {
      "cell_type": "code",
      "metadata": {
        "colab": {
          "base_uri": "https://localhost:8080/"
        },
        "id": "Ev4A4FKq7UDy",
        "outputId": "6438ce7d-e7ed-408e-8c15-99184847652c"
      },
      "source": [
        " \n",
        "a= 50\n",
        "b = 20\n",
        "c = 10\n",
        " \n",
        "c = a + b\n",
        "print (\"Addition - Value of c is \", c)\n",
        " \n",
        "c = a - b\n",
        "print (\"Subtraction - Value of c is \", c)\n",
        " \n",
        "c = a * b\n",
        "print (\"Multiplication - Value of c is \", c)\n",
        " \n",
        "c = a / b\n",
        "print (\"Division - Value of c is \", c)\n",
        " \n",
        "c = a % b\n",
        "print (\"Modulus - Value of c is \", c)"
      ],
      "execution_count": 7,
      "outputs": [
        {
          "output_type": "stream",
          "text": [
            "Addition - Value of c is  70\n",
            "Subtraction - Value of c is  30\n",
            "Multiplication - Value of c is  1000\n",
            "Division - Value of c is  2.5\n",
            "Modulus - Value of c is  10\n"
          ],
          "name": "stdout"
        }
      ]
    },
    {
      "cell_type": "markdown",
      "metadata": {
        "id": "lzFTLm5I7aZQ"
      },
      "source": [
        " 2.a.copy the contents from one array to another array"
      ]
    },
    {
      "cell_type": "code",
      "metadata": {
        "colab": {
          "base_uri": "https://localhost:8080/"
        },
        "id": "9yoi1oNf7dQD",
        "outputId": "9cc16876-f02d-4520-ea1a-92f002119650"
      },
      "source": [
        " \n",
        "import numpy as np\n",
        "x = np.array([24, 27, 30, 29, 18, 14])\n",
        "print(\"Original array:\")\n",
        "print(x)\n",
        "y = np.empty_like (x)\n",
        "y[:] = x\n",
        "print(\"\\nCopy of the said array:\")\n",
        "print(y)"
      ],
      "execution_count": 8,
      "outputs": [
        {
          "output_type": "stream",
          "text": [
            "Original array:\n",
            "[24 27 30 29 18 14]\n",
            "\n",
            "Copy of the said array:\n",
            "[24 27 30 29 18 14]\n"
          ],
          "name": "stdout"
        }
      ]
    },
    {
      "cell_type": "markdown",
      "metadata": {
        "id": "qmB7v6Hs7hFr"
      },
      "source": [
        " 2.b Copy the contents from one array to another in reverse order"
      ]
    },
    {
      "cell_type": "code",
      "metadata": {
        "colab": {
          "base_uri": "https://localhost:8080/"
        },
        "id": "qD3TcerM7jhP",
        "outputId": "7be43a7c-1f21-4071-e183-7990da45e8ac"
      },
      "source": [
        " \n",
        "import array as arr\n",
        "source = arr.array('i', [10, 20, 30, 40])\n",
        "dest = arr.array('i', [])\n",
        " \n",
        "for index in range(0, len(source)):\n",
        "    dest.insert(index, source[index])\n",
        "    \n",
        "for i in dest:\n",
        "    print(i, end=\" \")\n",
        "print(type(dest))\n",
        "print(\"The reverse of the array: \")\n",
        "for i in range(len(source)-1, -1, -1):\n",
        "    dest.insert(index, source[index])\n",
        "    print(dest[i], end=\" \")"
      ],
      "execution_count": 9,
      "outputs": [
        {
          "output_type": "stream",
          "text": [
            "10 20 30 40 <class 'array.array'>\n",
            "The reverse of the array: \n",
            "40 30 20 10 "
          ],
          "name": "stdout"
        }
      ]
    },
    {
      "cell_type": "markdown",
      "metadata": {
        "id": "7hu_sQqS7qhM"
      },
      "source": [
        " 2.c.delete the duplicate elements from an array"
      ]
    },
    {
      "cell_type": "code",
      "metadata": {
        "colab": {
          "base_uri": "https://localhost:8080/"
        },
        "id": "AhLAM6JG7rl_",
        "outputId": "83e42841-9501-44f4-b0f7-c7aa85f0714f"
      },
      "source": [
        " \n",
        "import array as arr\n",
        "def delete_duplicate(array1):\n",
        "    array2 = arr.array(\"i\", [])\n",
        "    for num in array1: \n",
        "        if num not in array2: \n",
        "            array2.append(num) \n",
        "    print(\"\\nArray after deleting the duplicate elements is:\")\n",
        "    for i in array2:\n",
        "        print(i, end = \", \")\n",
        " \n",
        "delete_duplicate(arr.array('i', [1,2,4,5,2,3,7,3,8,2,9]))"
      ],
      "execution_count": 10,
      "outputs": [
        {
          "output_type": "stream",
          "text": [
            "\n",
            "Array after deleting the duplicate elements is:\n",
            "1, 2, 4, 5, 3, 7, 8, 9, "
          ],
          "name": "stdout"
        }
      ]
    },
    {
      "cell_type": "markdown",
      "metadata": {
        "id": "805M_BUr7vie"
      },
      "source": [
        " 3.a Representing sparse matrix"
      ]
    },
    {
      "cell_type": "code",
      "metadata": {
        "colab": {
          "base_uri": "https://localhost:8080/"
        },
        "id": "9XUXOBRB7yVS",
        "outputId": "149eff8c-a890-45fc-db87-4f73b309bff1"
      },
      "source": [
        " \n",
        "import numpy as np \n",
        "from scipy.sparse import csr_matrix \n",
        "  \n",
        "# Creating a 3 * 4 sparse matrix \n",
        "sparseMatrix = csr_matrix((3, 4),  \n",
        "                          dtype = np.int8).toarray() \n",
        "  \n",
        "# Print the sparse matrix \n",
        "print(sparseMatrix)"
      ],
      "execution_count": 11,
      "outputs": [
        {
          "output_type": "stream",
          "text": [
            "[[0 0 0 0]\n",
            " [0 0 0 0]\n",
            " [0 0 0 0]]\n"
          ],
          "name": "stdout"
        }
      ]
    },
    {
      "cell_type": "markdown",
      "metadata": {
        "id": "XT6fxvNd7122"
      },
      "source": [
        " 3.b Sparse matrix addition"
      ]
    },
    {
      "cell_type": "code",
      "metadata": {
        "colab": {
          "base_uri": "https://localhost:8080/"
        },
        "id": "uGl20Nla74SF",
        "outputId": "c0b96a73-6bad-4513-cd88-4aea453cdb7b"
      },
      "source": [
        " \n",
        "m1=[[1,0,3],\n",
        "     [0,5,6],\n",
        "     [7,0,0]]\n",
        "m2=[[0,5,1],\n",
        "    [0,0,8],\n",
        "    [0,2,6]]     \n",
        "result=[[0,0,0],\n",
        "    [0,0,0],\n",
        "    [0,0,0]] \n",
        "for i in range(len(m1)):\n",
        "  for j in range(len(m2)):\n",
        "    for k in range(len(m2)):\n",
        "      result[i][j] = m1[i][j]+m2[i][j]\n",
        "print(\"The resultant matrix \")\n",
        "for r in result:\n",
        "  print(r)"
      ],
      "execution_count": 12,
      "outputs": [
        {
          "output_type": "stream",
          "text": [
            "The resultant matrix \n",
            "[1, 5, 4]\n",
            "[0, 5, 14]\n",
            "[7, 2, 6]\n"
          ],
          "name": "stdout"
        }
      ]
    },
    {
      "cell_type": "markdown",
      "metadata": {
        "id": "Nfc3cgGM78sp"
      },
      "source": [
        " 3.c.sprase matrix transpose"
      ]
    },
    {
      "cell_type": "code",
      "metadata": {
        "id": "_By2qvbW8A1W",
        "outputId": "3b5c9b86-34eb-493b-a2b4-21b9ba1172aa",
        "colab": {
          "base_uri": "https://localhost:8080/"
        }
      },
      "source": [
        " \n",
        "N=4\n",
        "def transpose(A,B): \n",
        "  \n",
        "    for i in range(N): \n",
        "        for j in range(N): \n",
        "            B[i][j] = A[j][i] \n",
        " \n",
        "A = [ [1, 1, 1, 1], \n",
        "    [2, 2, 2, 2], \n",
        "    [3, 3, 3, 3], \n",
        "    [4, 4, 4, 4]] \n",
        "   \n",
        "   \n",
        "B = A[:][:] \n",
        "  \n",
        "transpose(A, B) \n",
        "   \n",
        "print(\"Result matrix is\") \n",
        "for i in range(N): \n",
        "    for j in range(N): \n",
        "        print(B[i][j], \" \", end='') \n",
        "    print()"
      ],
      "execution_count": 13,
      "outputs": [
        {
          "output_type": "stream",
          "text": [
            "Result matrix is\n",
            "1  2  3  4  \n",
            "2  2  3  4  \n",
            "3  3  3  4  \n",
            "4  4  4  4  \n"
          ],
          "name": "stdout"
        }
      ]
    },
    {
      "cell_type": "markdown",
      "metadata": {
        "id": "8z-wWXty8Dz9"
      },
      "source": [
        " 4.Write a program to perform Linear Search and Binary Search on a list stored in an array"
      ]
    },
    {
      "cell_type": "code",
      "metadata": {
        "id": "R-8ZXp7m8HZq",
        "outputId": "9825038a-6bb4-4da8-f42b-1db9332a4f30",
        "colab": {
          "base_uri": "https://localhost:8080/"
        }
      },
      "source": [
        " \n",
        "def linear(alist,key):\n",
        "  for i in range(len(alist)):\n",
        "    if alist[i]==key :\n",
        "      return i \n",
        "  return -1\n",
        " \n",
        " \n",
        "alist = input('Enter the list of numbers :')\n",
        "alist = alist.split()\n",
        "alist =[int(x) for x in alist]\n",
        "key = int(input('The number to search for :'))\n",
        " \n",
        "index = linear(alist,key)\n",
        "if index<0 :\n",
        "   print('{} was not found '.format(key))\n",
        "else:\n",
        "  print('{} was found at index {}.'.format(key,index))"
      ],
      "execution_count": 14,
      "outputs": [
        {
          "output_type": "stream",
          "text": [
            "Enter the list of numbers :1\n",
            "The number to search for :2\n",
            "2 was not found \n"
          ],
          "name": "stdout"
        }
      ]
    },
    {
      "cell_type": "code",
      "metadata": {
        "id": "P7aRKTCx8ME0",
        "outputId": "5325898b-ffd1-40df-85e7-d2fa7e1193ad",
        "colab": {
          "base_uri": "https://localhost:8080/"
        }
      },
      "source": [
        " \n",
        "def binary(alist,key):\n",
        " \n",
        "  start = 0\n",
        "  end=len(alist)\n",
        "  while start<end :\n",
        "     mid = (start+end)//2\n",
        "     if alist[mid]>key :\n",
        "        end = mid\n",
        "     elif alist[mid]<key :\n",
        "        start=mid+1\n",
        "     else:\n",
        "        return mid \n",
        "  return -1\n",
        " \n",
        "alist = input('Enter the sorted list of numbers:')\n",
        "alist = alist.split()\n",
        "alist = [int(x) for x in alist]\n",
        "key = int(input('The number to search for :'))\n",
        "index = binary(alist,key)\n",
        "if index <0:\n",
        "   print('{}was not found.'.format(key))\n",
        "else :\n",
        "   print('{} was found at index {}.'.format(key,index))"
      ],
      "execution_count": 15,
      "outputs": [
        {
          "output_type": "stream",
          "text": [
            "Enter the sorted list of numbers:1\n",
            "The number to search for :2\n",
            "2was not found.\n"
          ],
          "name": "stdout"
        }
      ]
    },
    {
      "cell_type": "markdown",
      "metadata": {
        "id": "4zTPg0rN8WQ8"
      },
      "source": [
        " 5.singly linked list"
      ]
    },
    {
      "cell_type": "code",
      "metadata": {
        "id": "_t1MFM5T8ZSX"
      },
      "source": [
        " \n",
        "class node:\n",
        "    def _init_(self,dval,nval):\n",
        "        self.dval=dval\n",
        "        self.nval=nval\n",
        "class slist:\n",
        "    def _init_(self):\n",
        "        self.head=None\n",
        "        self.tail=None\n",
        "        self.size=0\n",
        "    def len(self):\n",
        "        return self.size\n",
        "    def isempty(self):\n",
        "        return self.size==0\n",
        "    def addlast(self,e):\n",
        "        new=node(e,None)\n",
        "        if self.isempty():\n",
        "            self.head=new\n",
        "        else:\n",
        "            self.tail.nval=new\n",
        "        self.tail=new\n",
        "        self.size+=1\n",
        "    def display(self):\n",
        "        p=self.head\n",
        "        while p:\n",
        "            print(p.dval,end='--')\n",
        "            p=p.nval\n",
        "        print(' ')\n",
        "    def removefirst(self):\n",
        "        if self.isempty():\n",
        "            print('empty list')\n",
        "            return\n",
        "        print('element deleted form the list is',self.head.dval)\n",
        "        self.head=self.head.nval\n",
        "        self.size-=1\n",
        "        if self.isempty():\n",
        "            self.tail=None\n",
        "            return\n",
        "    def removelast(self):\n",
        "        if self.isempty():\n",
        "            print('empty list')\n",
        "            return\n",
        "        temp=self.head\n",
        "        i=1\n",
        "        while i<self.len()-1:\n",
        "            temp=temp.nval\n",
        "            i+=1\n",
        "        self.tail=temp\n",
        "        temp=temp.nval\n",
        "        x=temp.nval\n",
        "        self.tail.nval=None\n",
        "        self.size-=1\n",
        "        return x\n",
        "    def count(self):\n",
        "        i=0\n",
        "        p=self.head\n",
        "        while p:\n",
        "            p=p.nval\n",
        "            i+=1\n",
        "            return i\n",
        "    def search(self,el):\n",
        "        p=self.head\n",
        "        i=0\n",
        "        while (i<(self.len())):\n",
        "            print(p.dval)\n",
        "            if p.dval==el:\n",
        "                print('element is found')\n",
        "                return\n",
        "            p=p.nval\n",
        "            i+=1\n",
        "        print('element is not found')"
      ],
      "execution_count": 16,
      "outputs": []
    },
    {
      "cell_type": "markdown",
      "metadata": {
        "id": "q7ojSLDd8b8W"
      },
      "source": [
        " 6.doubly linked list"
      ]
    },
    {
      "cell_type": "code",
      "metadata": {
        "id": "uAu48_kd8e3v"
      },
      "source": [
        " \n",
        "class Node:\n",
        "    def init(self,preval,dataval,nextval):\n",
        "        self.dataval=dataval\n",
        "        self.nextval=nextval\n",
        "        self.preval=preval\n",
        "class dlist:\n",
        "    def init(self):\n",
        "        self.head=None\n",
        "        self.tail=None\n",
        "        self.size=0\n",
        "    def len(self):\n",
        "        return self.size\n",
        "    def isempty(self):\n",
        "        return self.size==0\n",
        "    def addlast(self,ele):\n",
        "        new=Node(None,ele,None)\n",
        "        if self.isempty():\n",
        "            self.head=new\n",
        "            self.tail=new\n",
        "        else:\n",
        "            self.tail.nextval=new\n",
        "            new.preval=self.tail\n",
        "            self.tail=new\n",
        "        self.size+=1\n",
        "    def display(self):\n",
        "        temp=self.head\n",
        "        while (temp):\n",
        "            print(temp.dataval,end='--')\n",
        "            temp=temp.nextval\n",
        "    def removelast(self):\n",
        "        if self.isempty():\n",
        "            print('empty list')\n",
        "            return\n",
        "        print('deleted element is :',self.tail.dataval)\n",
        "        self.tail.preval.nextval=None\n",
        "        self.tail=self.tail.preval\n",
        "        self.size-=1\n",
        "    def removefirst(self):\n",
        "        if self.isempty():\n",
        "            print('empty list')\n",
        "            return\n",
        "        else:\n",
        "            print('deleted element is :',self.head.dataval)\n",
        "            self.head.nextval=self.head\n",
        "            self.head.preval=None\n",
        "            self.size-=1\n",
        "            return\n",
        "    def search(self,ele):\n",
        "        temp=self.head\n",
        "        i=0\n",
        "        while(temp):\n",
        "            print('yes')\n",
        "            if temp.dataval==ele:\n",
        "                print('element found')\n",
        "                return\n",
        "            i+=1\n",
        "            temp=temp.nextval"
      ],
      "execution_count": 17,
      "outputs": []
    },
    {
      "cell_type": "markdown",
      "metadata": {
        "id": "9MrdCPzi8iEd"
      },
      "source": [
        " 7.circular singly list"
      ]
    },
    {
      "cell_type": "code",
      "metadata": {
        "id": "fCLo4hfH8lXc"
      },
      "source": [
        " \n",
        "class Node:\n",
        "    def init(self,preval,dataval,nextval):\n",
        "        self.dataval=dataval\n",
        "        self.nextval=nextval\n",
        "        self.preval=preval\n",
        "class dlist:\n",
        "    def init(self):\n",
        "        self.head=None\n",
        "        self.tail=None\n",
        "        self.size=0\n",
        "    def len(self):\n",
        "        return self.size\n",
        "    def isempty(self):\n",
        "        return self.size==0\n",
        "    def addlast(self,ele):\n",
        "        new=Node(None,ele,None)\n",
        "        if self.isempty():\n",
        "            self.head=new\n",
        "            self.tail=new\n",
        "        else:\n",
        "            self.tail.nextval=new\n",
        "            new.preval=self.tail\n",
        "            self.tail=new\n",
        "        self.size+=1\n",
        "    def display(self):\n",
        "        temp=self.head\n",
        "        while (temp):\n",
        "            print(temp.dataval,end='--')\n",
        "            temp=temp.nextval\n",
        "    def removelast(self):\n",
        "        if self.isempty():\n",
        "            print('empty list')\n",
        "            return\n",
        "        print('deleted element is :',self.tail.dataval)\n",
        "        self.tail.preval.nextval=None\n",
        "        self.tail=self.tail.preval\n",
        "        self.size-=1\n",
        "    def removefirst(self):\n",
        "        if self.isempty():\n",
        "            print('empty list')\n",
        "            return\n",
        "        else:\n",
        "            print('deleted element is :',self.head.dataval)\n",
        "            self.head.nextval=self.head\n",
        "            self.head.preval=None\n",
        "            self.size-=1\n",
        "            return\n",
        "    def search(self,ele):\n",
        "        temp=self.head\n",
        "        i=0\n",
        "        while(temp):\n",
        "            print('yes')\n",
        "            if temp.dataval==ele:\n",
        "                print('element found')\n",
        "                return\n",
        "            i+=1\n",
        "            temp=temp.nextval"
      ],
      "execution_count": 18,
      "outputs": []
    },
    {
      "cell_type": "markdown",
      "metadata": {
        "id": "UOI3vcJU8pON"
      },
      "source": [
        " 8.write a program to create a stack and perform various operation on it"
      ]
    },
    {
      "cell_type": "code",
      "metadata": {
        "id": "JBeawSta8sx4",
        "outputId": "5b292e1a-3d22-409f-cbe6-0d8977f23ba9",
        "colab": {
          "base_uri": "https://localhost:8080/"
        }
      },
      "source": [
        " \n",
        "class Stack:\n",
        "    def _init_(self):\n",
        "        self.items = []\n",
        " \n",
        "    def is_empty(self):\n",
        "        return self.items == []\n",
        " \n",
        "    def push(self, data):\n",
        "        self.items.append(data)\n",
        " \n",
        "    def pop(self):\n",
        "        return self.items.pop()\n",
        " \n",
        " \n",
        "s = Stack()\n",
        "while True:\n",
        "    print('push <value>')\n",
        "    print('pop')\n",
        "    print('quit')\n",
        "    do = input('perform operation').split()\n",
        " \n",
        "    operation = do[0].strip().lower()\n",
        "    if operation == 'push':\n",
        "        s.push(int(do[1]))\n",
        "    elif operation == 'pop':\n",
        "        if s.is_empty():\n",
        "            print('Stack is empty.')\n",
        "        else:\n",
        "            print('Popped value: ', s.pop())\n",
        "    elif operation == 'quit':\n",
        "        break"
      ],
      "execution_count": null,
      "outputs": [
        {
          "output_type": "stream",
          "text": [
            "push <value>\n",
            "pop\n",
            "quit\n",
            "push <value>\n",
            "pop\n",
            "quit\n"
          ],
          "name": "stdout"
        }
      ]
    },
    {
      "cell_type": "markdown",
      "metadata": {
        "id": "ydFh_yY-8xZg"
      },
      "source": [
        " 9.convert the influx expression into postfix form"
      ]
    },
    {
      "cell_type": "code",
      "metadata": {
        "id": "yP_Pm26z80cu"
      },
      "source": [
        " \n",
        "class infix_to_postfix:\n",
        "    precedence={'^':5,'*':4,'/':4,'+':3,'-':3,'(':2,')':1}\n",
        "    def _init_(self):\n",
        "        self.items=[]\n",
        "        self.size=-1\n",
        "    def push(self,value):\n",
        "        self.items.append(value)\n",
        "        self.size+=1\n",
        "    def pop(self):\n",
        "        if self.isempty():\n",
        "            return 0\n",
        "        else:\n",
        "            self.size-=1\n",
        "            return self.items.pop()\n",
        "    def isempty(self):\n",
        "        if(self.size==-1):\n",
        "            return True\n",
        "        else:\n",
        "            return False\n",
        "    def seek(self):\n",
        "        if self.isempty():\n",
        "            return false\n",
        "        else:\n",
        "            return self.items[self.size]\n",
        "    def isOperand(self,i):\n",
        "        if i in 'ABCDEFGHIJKLMNOPQRSTUVWXYZ':\n",
        "            return True\n",
        "        else:\n",
        "            return False\n",
        "    def infixtopostfix (self,expr):\n",
        "        postfix=\"\"\n",
        "        print('postfix expression after every iteration is:')\n",
        "        for i in expr:\n",
        "            if(len(expr)%2==0):\n",
        "                print(\"Incorrect infix expr\")\n",
        "                return False\n",
        "            elif(self.isOperand(i)):\n",
        "                postfix +=i\n",
        "            elif(i in '+-*/^'):\n",
        "                while(len(self.items)and self.precedence[i]<=self.precedence[self.seek()]):\n",
        "                    postfix+=self.pop()\n",
        "                self.push(i)\n",
        "            elif i is '(':\n",
        "                self.push(i)\n",
        "            elif i is ')':\n",
        "                o=self.pop()\n",
        "                while o!='(':\n",
        "                    postfix +=o\n",
        "                    o=self.pop()\n",
        "            print(postfix)\n",
        "                #end of for\n",
        "        while len(self.items):\n",
        "            if(self.seek()=='('):\n",
        "                self.pop()\n",
        "            else:\n",
        "                postfix+=self.pop()\n",
        "        return postfix\n",
        "s=infix_to_postfix()\n",
        "expr=input('enter the expression ')\n",
        "result=s.infixtopostfix(expr)\n",
        "if (result!=False):\n",
        "    print(\"the postfix expr of :\",expr,\"is\",result)"
      ],
      "execution_count": null,
      "outputs": []
    },
    {
      "cell_type": "markdown",
      "metadata": {
        "id": "jn12P-8D845D"
      },
      "source": [
        " 10.create a queue and perform various operations on it"
      ]
    },
    {
      "cell_type": "code",
      "metadata": {
        "id": "fqvkvZO788FO"
      },
      "source": [
        " \n",
        "class Node:\n",
        "    def _init_(self, element, next):\n",
        "        self.element = element\n",
        "        self.next = next\n",
        " \n",
        "class QueuesLinked:\n",
        "    def _init_(self):\n",
        "        self.front = None\n",
        "        self.rear = None\n",
        "        self.size = 0\n",
        " \n",
        "    def _len_(self):\n",
        "        return self.size\n",
        " \n",
        "    def isempty(self):\n",
        "        return self.size == 0\n",
        " \n",
        "    def enqueue(self, e):\n",
        "        newest = Node(e, None)\n",
        "        if self.isempty():\n",
        "            self.front = newest\n",
        "        else:\n",
        "            self.rear.next = newest\n",
        "        self.rear = newest\n",
        "        self.size += 1\n",
        " \n",
        "    def dequeue(self):\n",
        "        if self.isempty():\n",
        "            print('Queue is empty')\n",
        "            return\n",
        "        e = self.front.element\n",
        "        self.front = self.front.next\n",
        "        self.size -= 1\n",
        "        if self.isempty():\n",
        "            self.rear = None\n",
        "        return e\n",
        " \n",
        "    def first(self):\n",
        "        if self.isempty():\n",
        "            print('Queue is empty')\n",
        "            return\n",
        "        return self.front.element\n",
        " \n",
        "    def display(self):\n",
        "        p = self.front\n",
        "        while p:\n",
        "            print(p.element,end=' <-- ')\n",
        "            p = p.next\n",
        "        print()\n",
        " \n",
        " \n",
        "Q = QueuesLinked()\n",
        "Q.enqueue(5)\n",
        "Q.enqueue(3)\n",
        "print('Queue:')\n",
        "Q.display()\n",
        "print('Queue Length:', len(Q))\n",
        "ele = Q.dequeue()\n",
        "print('Queue:')\n",
        "Q.display()\n",
        "print('Queue Length:', len(Q))\n",
        "print('Removed Element:',ele)\n",
        "print('Is Queue Empty:',Q.isempty())\n",
        "Q.enqueue(7)\n",
        "print('Queue:')\n",
        "Q.display()\n",
        "print('Queue Length:', len(Q))\n",
        "Q.enqueue(12)\n",
        "print('Queue:')\n",
        "Q.display()\n",
        "print('Queue Length:', len(Q))\n",
        "ele = Q.dequeue()\n",
        "print('Queue:')\n",
        "Q.display()\n",
        "print('Queue Length:', len(Q))\n",
        "print('Removed Element:',ele)\n",
        "print('First Element:',Q.first())"
      ],
      "execution_count": null,
      "outputs": []
    },
    {
      "cell_type": "markdown",
      "metadata": {
        "id": "Jbd6aIV28_h7"
      },
      "source": [
        " 11.Write a program to create a binary tree and perform various traversals"
      ]
    },
    {
      "cell_type": "code",
      "metadata": {
        "id": "yaALutUf9CpZ"
      },
      "source": [
        " \n",
        "def __init__(self,data):\n",
        "        self.left = None\n",
        "        self.right = None\n",
        "        self.data = data \n",
        " \n",
        "#To insert a new node\n",
        "    def insert(self,child,direction):\n",
        "        if direction == \"right\":\n",
        "            self.right = child \n",
        "        elif direction == \"left\":\n",
        "            self.left = child \n",
        " \n",
        "#To print the tree (LRN method - Left Node,Right Node,Root Node)\n",
        "    def PrintTree(self):\n",
        "        if self.left:\n",
        "            self.left.PrintTree()\n",
        "        if self.right:\n",
        "            self.right.PrintTree()\n",
        "        print(self.data)\n",
        " \n",
        "#Use the insert method to add nodes \n",
        "A = Node(\"A\")\n",
        "B = Node(\"B\")\n",
        "C = Node(\"C\")\n",
        "D = Node(\"D\")\n",
        "E = Node(\"E\")\n",
        "F = Node(\"F\")\n",
        "A.insert(B,\"left\")\n",
        "B.insert(C,\"right\")\n",
        "C.insert(D,\"left\")\n",
        "A.insert(E,\"right\")\n",
        "E.insert(F,\"right\")\n",
        "A.PrintTree()"
      ],
      "execution_count": null,
      "outputs": []
    },
    {
      "cell_type": "markdown",
      "metadata": {
        "id": "VyjwgiWD9Idy"
      },
      "source": [
        " 12.create a binary search tree and perform some operations"
      ]
    },
    {
      "cell_type": "code",
      "metadata": {
        "id": "FVSPyQYo9Lb7"
      },
      "source": [
        " \n",
        "class BST():\n",
        "  def __init__(self,data):\n",
        "    self.data=data\n",
        "    self.left=None\n",
        "    self.right=None\n",
        " \n",
        "  \n",
        "  def addchild(self,data):\n",
        "    if data==self.data:\n",
        "      return\n",
        "    \n",
        "    if data<self.data:\n",
        "      if self.left:\n",
        "        self.left.addchild(data)\n",
        "      else:\n",
        "        self.left=BST(data)\n",
        " \n",
        "    else:\n",
        "      if self.right:\n",
        "        self.right.addchild(data)\n",
        "      else:\n",
        "        self.right=BST(data)\n",
        " \n",
        " \n",
        "  def inorder(self):\n",
        "    elements=[]\n",
        "    if self.left:\n",
        "      elements+=self.left.inorder()\n",
        "    if self.data:\n",
        "      elements.append(self.data)\n",
        "    if self.right:\n",
        "      elements+=self.right.inorder()\n",
        "    return elements\n",
        " \n",
        " \n",
        "  def preorder(self):\n",
        "    elements=[]\n",
        "    if self.data:\n",
        "      elements.append(self.data)\n",
        "    if self.left:\n",
        "      elements+=self.left.inorder()\n",
        "    if self.right:\n",
        "      elements+=self.right.inorder()\n",
        "    return elements\n",
        " \n",
        "  \n",
        "  def postorder(self):\n",
        "    elements=[]\n",
        "    if self.left:\n",
        "      elements+=self.left.inorder()\n",
        "    if self.right:\n",
        "      elements+=self.right.inorder()\n",
        "    if self.data:\n",
        "      elements.append(self.data)\n",
        "    return elements\n",
        " \n",
        "    \n",
        "  def search(self,val):\n",
        "    if val==self.data:\n",
        "      return True\n",
        "    if val<self.data:\n",
        "      if self.left:\n",
        "        val=self.left.search(val)\n",
        "      else:\n",
        "        return False\n",
        "    else: \n",
        "      if self.right: \n",
        "        val=self.right.search(val)\n",
        "      else:\n",
        "        return False\n",
        "    return val\n",
        " \n",
        "def build_tree(elements):\n",
        "  root=BST(elements[0])\n",
        "  for i in range(1,len(elements)):\n",
        "    root.addchild(elements[i])\n",
        "  return root\n",
        " \n",
        "if _name==\"main_\":\n",
        "  numbers=[17, 4, 1, 20, 9, 23, 18, 34]\n",
        "  numbers_tree=build_tree(numbers)\n",
        "  print(numbers_tree.inorder())\n",
        "  print(numbers_tree.preorder())\n",
        "  print(numbers_tree.postorder())\n",
        "  \n",
        "  print(numbers_tree.search(4))\n",
        "  print(numbers_tree.search(10)"
      ],
      "execution_count": null,
      "outputs": []
    },
    {
      "cell_type": "markdown",
      "metadata": {
        "id": "Pepwhe0f9gpl"
      },
      "source": [
        " 15.a.insertion sort"
      ]
    },
    {
      "cell_type": "code",
      "metadata": {
        "id": "kqGHURIt9pwU"
      },
      "source": [
        " \n",
        "def insertion_sort(alist):\n",
        " for i in range(1,len(alist)):\n",
        "    temp = alist[i]\n",
        "    j = i - 1\n",
        "    while (j >= 0 and temp < alist[j]):\n",
        "        alist[j+1] = alist[j]\n",
        "        j = j-1\n",
        "    alist[j+1] = temp\n",
        " \n",
        "alist = input('Enter the list of numnbers: ').split()\n",
        "alist = [int(x) for x in alist]\n",
        "insertion_sort(alist)\n",
        "print('Sorted list: ', end='')\n",
        "print(alist)"
      ],
      "execution_count": null,
      "outputs": []
    },
    {
      "cell_type": "markdown",
      "metadata": {
        "id": "SzPN0g1V9ubH"
      },
      "source": [
        " 15.b.selection sort"
      ]
    },
    {
      "cell_type": "code",
      "metadata": {
        "id": "rJM-M707906i"
      },
      "source": [
        " \n",
        "def selection_sort(alist):\n",
        "  for i in range(0,len(alist) - 1):\n",
        "    smallest = i\n",
        "    for j in range(i+1, len(alist)):\n",
        "      if alist[j] < alist[smallest]:\n",
        "        smallest = j\n",
        "    alist[i], alist[smallest] = alist[smallest], alist[i]\n",
        " \n",
        "alist = input(\"Enter the list of numbers: \").split()\n",
        "alist = [int(x) for x in alist]\n",
        "selection_sort(alist)\n",
        "print('Sorted list: ', end='')\n",
        "print(alist)"
      ],
      "execution_count": null,
      "outputs": []
    },
    {
      "cell_type": "markdown",
      "metadata": {
        "id": "KTwNBcMr944W"
      },
      "source": [
        " 15.c.bubble sort"
      ]
    },
    {
      "cell_type": "code",
      "metadata": {
        "id": "IyPA_JVb9-v7"
      },
      "source": [
        " \n",
        "def bubbleSort(arr): \n",
        "    n = len(arr) \n",
        "  \n",
        "  \n",
        "    for i in range(n-1): \n",
        "    # range(n) also work but outer loop will repeat one time more than needed. \n",
        "  \n",
        "        # Last i elements are already in place \n",
        "        for j in range(0, n-i-1): \n",
        "  \n",
        "            # traverse the array from 0 to n-i-1 \n",
        "            # Swap if the element found is greater \n",
        "            # than the next element \n",
        "            if arr[j] > arr[j+1] : \n",
        "                arr[j], arr[j+1] = arr[j+1], arr[j] \n",
        "  \n",
        " \n",
        "arr = [64, 34, 25, 12, 22, 11, 90] \n",
        "  \n",
        "bubbleSort(arr) \n",
        "  \n",
        "print (\"Sorted array is:\") \n",
        "for i in range(len(arr)): \n",
        "    print (\"%d\" %arr[i])"
      ],
      "execution_count": null,
      "outputs": []
    },
    {
      "cell_type": "markdown",
      "metadata": {
        "id": "RZMh8j9m-EPm"
      },
      "source": [
        " 15.d.merge sort"
      ]
    },
    {
      "cell_type": "code",
      "metadata": {
        "id": "Y6bxVqwX-L49"
      },
      "source": [
        " \n",
        "def merge(arr, l, m, r): \n",
        "    n1 = m - l + 1\n",
        "    n2 = r- m  \n",
        "    L = [0] * (n1) \n",
        "    R = [0] * (n2) \n",
        "    for i in range(0 , n1): \n",
        "       L[i] = arr[l + i] \n",
        "    for j in range(0 , n2): \n",
        "       R[j] = arr[m + 1 + j] \n",
        "    i = 0     \n",
        "    j = 0     \n",
        "    k = l    \n",
        "    while i < n1 and j < n2 : \n",
        "        if L[i] <= R[j]: \n",
        "            arr[k] = L[i] \n",
        "            i += 1\n",
        "        else: \n",
        "            arr[k] = R[j] \n",
        "            j += 1\n",
        "        k += 1   \n",
        " \n",
        "    while i < n1: \n",
        "        arr[k] = L[i] \n",
        "        i += 1\n",
        "        k += 1\n",
        "    while j < n2: \n",
        "        arr[k] = R[j] \n",
        "        j += 1\n",
        "        k += 1\n",
        "def mergeSort(arr,l,r): \n",
        "    if l < r: \n",
        "        m = (l+(r-1))//2      \n",
        "        mergeSort(arr, l, m) \n",
        "        mergeSort(arr, m+1, r) \n",
        "        merge(arr, l, m, r) \n",
        "arr = [0,2, 7 ,4,-1,-8,3,1,9,-3,5] \n",
        "n = len(arr) \n",
        "print (\"Given array is \") \n",
        "for i in range(n): \n",
        "    print (arr[i], end=\" \")\n",
        "mergeSort(arr,0,n-1) \n",
        "print(\"\\n\\nSorted array is\")\n",
        "for i in range(n):\n",
        "  print(arr[i], end=\" \")"
      ],
      "execution_count": null,
      "outputs": []
    },
    {
      "cell_type": "markdown",
      "metadata": {
        "id": "9cGj6bNE-PxQ"
      },
      "source": [
        " 15.d.quick sort"
      ]
    },
    {
      "cell_type": "code",
      "metadata": {
        "id": "95mSvRHz-VZi"
      },
      "source": [
        " \n",
        "def quicksort(alist, start ,end):\n",
        " \n",
        "  if end-start>1:\n",
        "    p = partition(alist,start,end)\n",
        "    quicksort(alist,start,p)\n",
        "    quicksort(alist,p+1,end)\n",
        "  \n",
        "def partition(alist,start,end):\n",
        "  pivot = alist[start]\n",
        "  i = start + 1\n",
        "  j = end - 1\n",
        "  \n",
        "  while True :\n",
        "      while(i <= j and alist[i] <= pivot):\n",
        "        i = i + 1\n",
        "      while(i<=j and alist[j]>=pivot):\n",
        "        j = j - 1\n",
        " \n",
        "      if i <= j:\n",
        "        alist[i], alist[j] = alist[j], alist[i]\n",
        "      else:\n",
        "        alist[start], alist[j] = alist[j], alist[start]\n",
        "        return j\n",
        "      \n",
        "alist = input(\"Enter the list of numbers: \").split()\n",
        "alist = [int(x) for x in alist]\n",
        "quicksort(alist,0,len(alist))\n",
        "print('Sorted list : ',end=' ')\n",
        "print(alist)"
      ],
      "execution_count": null,
      "outputs": []
    }
  ]
}